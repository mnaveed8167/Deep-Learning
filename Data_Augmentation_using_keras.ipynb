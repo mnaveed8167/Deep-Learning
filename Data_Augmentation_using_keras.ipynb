{
  "nbformat": 4,
  "nbformat_minor": 0,
  "metadata": {
    "colab": {
      "name": "Data Augmentation using keras.ipynb",
      "provenance": [],
      "collapsed_sections": [],
      "authorship_tag": "ABX9TyOs6IwkFeTHpyRVaq9iEGOf",
      "include_colab_link": true
    },
    "kernelspec": {
      "name": "python3",
      "display_name": "Python 3"
    },
    "language_info": {
      "name": "python"
    },
    "accelerator": "GPU",
    "gpuClass": "standard"
  },
  "cells": [
    {
      "cell_type": "markdown",
      "metadata": {
        "id": "view-in-github",
        "colab_type": "text"
      },
      "source": [
        "<a href=\"https://colab.research.google.com/github/mnaveed8167/Deep-Learning/blob/main/Data_Augmentation_using_keras.ipynb\" target=\"_parent\"><img src=\"https://colab.research.google.com/assets/colab-badge.svg\" alt=\"Open In Colab\"/></a>"
      ]
    },
    {
      "cell_type": "code",
      "execution_count": 3,
      "metadata": {
        "id": "5rq4FvWxJXRq"
      },
      "outputs": [],
      "source": [
        "# Data Augmentation using python and keras\n",
        "from keras.preprocessing.image import ImageDataGenerator, array_to_img, img_to_array, load_img\n",
        "\n",
        "datagen = ImageDataGenerator(\n",
        "    rotation_range = 40,\n",
        "    width_shift_range = 0.2,\n",
        "    height_shift_range = 0.2,\n",
        "    shear_range = 0.2,\n",
        "    zoom_range = 0.2,\n",
        "    horizontal_flip = True,\n",
        "    fill_mode = 'nearest')\n",
        "\n",
        "image = load_img('/content/jean-wimmerlin-FC4GY9nQuu0-unsplash.jpg') # This is a PIL image\n",
        "x = img_to_array(image)  # this is a numpy array with shape (3,150,150)\n",
        "x = x.reshape((1,) + x.shape)   # this is a numpy array with shape(1,3,150,150)\n",
        "\n",
        "# the .flow() command below generates batches of randomly transformed images\n",
        "# and saves the results tom the 'preview/' directory\n",
        "\n",
        "i = 0\n",
        "for batch in datagen.flow(x, batch_size=1,\n",
        "                          save_to_dir = '/content/preview', save_prefix= 'Dog', save_format= 'jpeg'):\n",
        "  i += 1\n",
        "  if i > 20:\n",
        "    break  # otherwise the generator would loop infinitely\n"
      ]
    },
    {
      "cell_type": "code",
      "source": [
        ""
      ],
      "metadata": {
        "id": "QQflNyoUZdP_"
      },
      "execution_count": null,
      "outputs": []
    }
  ]
}